{
 "cells": [
  {
   "cell_type": "code",
   "execution_count": null,
   "metadata": {},
   "outputs": [],
   "source": [
    "# Test AI vector search in oracle database + langchain \n",
    "# connect to db: pip install oracledb\n",
    "# using juypter notebook extension + ipykernal extension\n",
    "\n",
    "# import packages required\n",
    "import sys\n",
    "import oracledb"
   ]
  },
  {
   "cell_type": "code",
   "execution_count": 37,
   "metadata": {},
   "outputs": [],
   "source": [
    "# Connect to the database with SYSDBA privileges\n",
    "# Make sure to have a user account inside the database - {user: aiuser, pwd: pass1234}\n",
    "# docker container has oracle database 23ai\n",
    "# In bash, use -> sqlplus aiuser@localhost:1521/FREEPDB1 (pwd: pass1234), but use port 1522 for dsn as docker container is mapped by 1522:1521\n",
    "\n",
    "try:\n",
    "    conn = oracledb.connect(\n",
    "        user=\"aiuser\",\n",
    "        password=\"pass1234\",\n",
    "        dsn=\"localhost:1522/FREEPDB1\",\n",
    "        #mode=oracledb.AUTH_MODE_SYSDBA # this would require user to have dba privilleges\n",
    "    )\n",
    "except Exception as e:\n",
    "    print(\"Connection failed!\")\n",
    "    sys.exit(1)\n"
   ]
  },
  {
   "cell_type": "code",
   "execution_count": null,
   "metadata": {},
   "outputs": [
    {
     "name": "stdout",
     "output_type": "stream",
     "text": [
      "('X',)\n"
     ]
    }
   ],
   "source": [
    "# test query\n",
    "cursor = conn.cursor()\n",
    "cursor.execute(\"select * from dual\")\n",
    "\n",
    "# See result of query\n",
    "for row in cursor:\n",
    "    print(row)\n",
    "\n",
    "# Close DB connections\n",
    "cursor.close()\n",
    "conn.close()\n",
    "\n",
    "# print hello world\n",
    "print()\n"
   ]
  },
  {
   "cell_type": "code",
   "execution_count": 30,
   "metadata": {},
   "outputs": [
    {
     "ename": "DatabaseError",
     "evalue": "ORA-00942: table or view \"AIUSER\".\"DEMO_TAB\" does not exist\nHelp: https://docs.oracle.com/error-help/db/ora-00942/",
     "output_type": "error",
     "traceback": [
      "\u001b[1;31m---------------------------------------------------------------------------\u001b[0m",
      "\u001b[1;31mDatabaseError\u001b[0m                             Traceback (most recent call last)",
      "Cell \u001b[1;32mIn[30], line 4\u001b[0m\n\u001b[0;32m      1\u001b[0m cursor \u001b[38;5;241m=\u001b[39m conn\u001b[38;5;241m.\u001b[39mcursor()\n\u001b[0;32m      3\u001b[0m drop_table_sql \u001b[38;5;241m=\u001b[39m \u001b[38;5;124m\"\"\"\u001b[39m\u001b[38;5;124mdrop table demo_tab\u001b[39m\u001b[38;5;124m\"\"\"\u001b[39m\n\u001b[1;32m----> 4\u001b[0m \u001b[43mcursor\u001b[49m\u001b[38;5;241;43m.\u001b[39;49m\u001b[43mexecute\u001b[49m\u001b[43m(\u001b[49m\u001b[43mdrop_table_sql\u001b[49m\u001b[43m)\u001b[49m\n\u001b[0;32m      6\u001b[0m create_table_sql \u001b[38;5;241m=\u001b[39m \u001b[38;5;124m\"\"\"\u001b[39m\u001b[38;5;124mcreate table demo_tab (id number, data clob)\u001b[39m\u001b[38;5;124m\"\"\"\u001b[39m\n\u001b[0;32m      7\u001b[0m cursor\u001b[38;5;241m.\u001b[39mexecute(create_table_sql)\n",
      "File \u001b[1;32mc:\\Users\\USER\\Desktop\\Chatbot_project\\.venv\\Lib\\site-packages\\oracledb\\cursor.py:710\u001b[0m, in \u001b[0;36mCursor.execute\u001b[1;34m(self, statement, parameters, **keyword_parameters)\u001b[0m\n\u001b[0;32m    708\u001b[0m \u001b[38;5;28mself\u001b[39m\u001b[38;5;241m.\u001b[39m_prepare_for_execute(statement, parameters, keyword_parameters)\n\u001b[0;32m    709\u001b[0m impl \u001b[38;5;241m=\u001b[39m \u001b[38;5;28mself\u001b[39m\u001b[38;5;241m.\u001b[39m_impl\n\u001b[1;32m--> 710\u001b[0m \u001b[43mimpl\u001b[49m\u001b[38;5;241;43m.\u001b[39;49m\u001b[43mexecute\u001b[49m\u001b[43m(\u001b[49m\u001b[38;5;28;43mself\u001b[39;49m\u001b[43m)\u001b[49m\n\u001b[0;32m    711\u001b[0m \u001b[38;5;28;01mif\u001b[39;00m impl\u001b[38;5;241m.\u001b[39mfetch_vars \u001b[38;5;129;01mis\u001b[39;00m \u001b[38;5;129;01mnot\u001b[39;00m \u001b[38;5;28;01mNone\u001b[39;00m:\n\u001b[0;32m    712\u001b[0m     \u001b[38;5;28;01mreturn\u001b[39;00m \u001b[38;5;28mself\u001b[39m\n",
      "File \u001b[1;32msrc\\\\oracledb\\\\impl/thin/cursor.pyx:196\u001b[0m, in \u001b[0;36moracledb.thin_impl.ThinCursorImpl.execute\u001b[1;34m()\u001b[0m\n",
      "File \u001b[1;32msrc\\\\oracledb\\\\impl/thin/protocol.pyx:440\u001b[0m, in \u001b[0;36moracledb.thin_impl.Protocol._process_single_message\u001b[1;34m()\u001b[0m\n",
      "File \u001b[1;32msrc\\\\oracledb\\\\impl/thin/protocol.pyx:441\u001b[0m, in \u001b[0;36moracledb.thin_impl.Protocol._process_single_message\u001b[1;34m()\u001b[0m\n",
      "File \u001b[1;32msrc\\\\oracledb\\\\impl/thin/protocol.pyx:433\u001b[0m, in \u001b[0;36moracledb.thin_impl.Protocol._process_message\u001b[1;34m()\u001b[0m\n",
      "File \u001b[1;32msrc\\\\oracledb\\\\impl/thin/messages.pyx:74\u001b[0m, in \u001b[0;36moracledb.thin_impl.Message._check_and_raise_exception\u001b[1;34m()\u001b[0m\n",
      "\u001b[1;31mDatabaseError\u001b[0m: ORA-00942: table or view \"AIUSER\".\"DEMO_TAB\" does not exist\nHelp: https://docs.oracle.com/error-help/db/ora-00942/"
     ]
    }
   ],
   "source": [
    "cursor = conn.cursor()\n",
    "\n",
    "drop_table_sql = \"\"\"drop table demo_tab\"\"\"\n",
    "cursor.execute(drop_table_sql)\n",
    "\n",
    "create_table_sql = \"\"\"create table demo_tab (id number, data clob)\"\"\"\n",
    "cursor.execute(create_table_sql)\n",
    "\n",
    "insert_row_sql = \"\"\"insert into demo_tab values (:1, :2)\"\"\"\n",
    "rows_to_insert = [\n",
    "    (\n",
    "        1,\n",
    "        \"If the answer to any preceding questions is yes, then the database stops the search and allocates space from the specified tablespace; otherwise, space is allocated from the database default shared temporary tablespace.\",\n",
    "    ),\n",
    "    (\n",
    "        2,\n",
    "        \"A tablespace can be online (accessible) or offline (not accessible) whenever the database is open.\\nA tablespace is usually online so that its data is available to users. The SYSTEM tablespace and temporary tablespaces cannot be taken offline.\",\n",
    "    ),\n",
    "    (\n",
    "        3,\n",
    "        \"The database stores LOBs differently from other data types. Creating a LOB column implicitly creates a LOB segment and a LOB index. The tablespace containing the LOB segment and LOB index, which are always stored together, may be different from the tablespace containing the table.\\nSometimes the database can store small amounts of LOB data in the table itself rather than in a separate LOB segment.\",\n",
    "    ),\n",
    "]\n",
    "cursor.executemany(insert_row_sql, rows_to_insert)\n",
    "\n",
    "conn.commit()\n",
    "\n",
    "print(\"Table created and populated.\")\n",
    "cursor.close()"
   ]
  }
 ],
 "metadata": {
  "kernelspec": {
   "display_name": ".venv",
   "language": "python",
   "name": "python3"
  },
  "language_info": {
   "codemirror_mode": {
    "name": "ipython",
    "version": 3
   },
   "file_extension": ".py",
   "mimetype": "text/x-python",
   "name": "python",
   "nbconvert_exporter": "python",
   "pygments_lexer": "ipython3",
   "version": "3.12.4"
  }
 },
 "nbformat": 4,
 "nbformat_minor": 2
}
