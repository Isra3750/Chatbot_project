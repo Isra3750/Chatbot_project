{
 "cells": [
  {
   "cell_type": "code",
   "execution_count": 3,
   "metadata": {},
   "outputs": [],
   "source": [
    "# Test AI vector search in oracle database + langchain \n",
    "# connect to db: pip install oracledb\n",
    "\n",
    "# import packages required\n",
    "import sys\n",
    "import oracledb"
   ]
  },
  {
   "cell_type": "code",
   "execution_count": 4,
   "metadata": {},
   "outputs": [
    {
     "name": "stdout",
     "output_type": "stream",
     "text": [
      "('X',)\n"
     ]
    }
   ],
   "source": [
    "# Connect to the database with SYSDBA privileges\n",
    "# Make sure to have a user account inside the database - {user: aiuser, pwd: pass1234}\n",
    "# docker container has oracle database 23ai\n",
    "# In bash, use -> sqlplus aiuser@localhost:1521/FREEPDB1 (pwd: pass1234), but use port 1522 for dsn as docker container is mapped by 1522:1521\n",
    "connection = oracledb.connect(\n",
    "    user=\"aiuser\",\n",
    "    password=\"pass1234\",\n",
    "    dsn=\"localhost:1522/FREEPDB1\",\n",
    "    #mode=oracledb.AUTH_MODE_SYSDBA # this would require user to have dba privilleges\n",
    ")\n",
    "\n",
    "cursor = connection.cursor()\n",
    "cursor.execute(\"select * from dual\")\n",
    "for row in cursor:\n",
    "    print(row)\n",
    "\n",
    "cursor.close()\n",
    "connection.close()"
   ]
  }
 ],
 "metadata": {
  "kernelspec": {
   "display_name": ".venv",
   "language": "python",
   "name": "python3"
  },
  "language_info": {
   "codemirror_mode": {
    "name": "ipython",
    "version": 3
   },
   "file_extension": ".py",
   "mimetype": "text/x-python",
   "name": "python",
   "nbconvert_exporter": "python",
   "pygments_lexer": "ipython3",
   "version": "3.12.4"
  }
 },
 "nbformat": 4,
 "nbformat_minor": 2
}
